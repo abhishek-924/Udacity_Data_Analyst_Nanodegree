{
 "cells": [
  {
   "cell_type": "code",
   "execution_count": 31,
   "metadata": {},
   "outputs": [],
   "source": [
    "#import libraries"
   ]
  },
  {
   "cell_type": "code",
   "execution_count": 32,
   "metadata": {},
   "outputs": [],
   "source": [
    "import pandas as pd\n",
    "import numpy as np"
   ]
  },
  {
   "cell_type": "code",
   "execution_count": 33,
   "metadata": {},
   "outputs": [],
   "source": [
    "#import dataset"
   ]
  },
  {
   "cell_type": "code",
   "execution_count": 34,
   "metadata": {},
   "outputs": [],
   "source": [
    "df_city=pd.read_csv('city_data_delhi.csv')\n",
    "df_global=pd.read_csv('global_data.csv')"
   ]
  },
  {
   "cell_type": "code",
   "execution_count": 35,
   "metadata": {
    "scrolled": true
   },
   "outputs": [
    {
     "data": {
      "text/html": [
       "<div>\n",
       "<style scoped>\n",
       "    .dataframe tbody tr th:only-of-type {\n",
       "        vertical-align: middle;\n",
       "    }\n",
       "\n",
       "    .dataframe tbody tr th {\n",
       "        vertical-align: top;\n",
       "    }\n",
       "\n",
       "    .dataframe thead th {\n",
       "        text-align: right;\n",
       "    }\n",
       "</style>\n",
       "<table border=\"1\" class=\"dataframe\">\n",
       "  <thead>\n",
       "    <tr style=\"text-align: right;\">\n",
       "      <th></th>\n",
       "      <th>year</th>\n",
       "      <th>avg_temp</th>\n",
       "    </tr>\n",
       "  </thead>\n",
       "  <tbody>\n",
       "    <tr>\n",
       "      <td>0</td>\n",
       "      <td>1750</td>\n",
       "      <td>8.72</td>\n",
       "    </tr>\n",
       "    <tr>\n",
       "      <td>1</td>\n",
       "      <td>1751</td>\n",
       "      <td>7.98</td>\n",
       "    </tr>\n",
       "    <tr>\n",
       "      <td>2</td>\n",
       "      <td>1752</td>\n",
       "      <td>5.78</td>\n",
       "    </tr>\n",
       "    <tr>\n",
       "      <td>3</td>\n",
       "      <td>1753</td>\n",
       "      <td>8.39</td>\n",
       "    </tr>\n",
       "    <tr>\n",
       "      <td>4</td>\n",
       "      <td>1754</td>\n",
       "      <td>8.47</td>\n",
       "    </tr>\n",
       "    <tr>\n",
       "      <td>5</td>\n",
       "      <td>1755</td>\n",
       "      <td>8.36</td>\n",
       "    </tr>\n",
       "    <tr>\n",
       "      <td>6</td>\n",
       "      <td>1756</td>\n",
       "      <td>8.85</td>\n",
       "    </tr>\n",
       "    <tr>\n",
       "      <td>7</td>\n",
       "      <td>1757</td>\n",
       "      <td>9.02</td>\n",
       "    </tr>\n",
       "    <tr>\n",
       "      <td>8</td>\n",
       "      <td>1758</td>\n",
       "      <td>6.74</td>\n",
       "    </tr>\n",
       "    <tr>\n",
       "      <td>9</td>\n",
       "      <td>1759</td>\n",
       "      <td>7.99</td>\n",
       "    </tr>\n",
       "  </tbody>\n",
       "</table>\n",
       "</div>"
      ],
      "text/plain": [
       "   year  avg_temp\n",
       "0  1750      8.72\n",
       "1  1751      7.98\n",
       "2  1752      5.78\n",
       "3  1753      8.39\n",
       "4  1754      8.47\n",
       "5  1755      8.36\n",
       "6  1756      8.85\n",
       "7  1757      9.02\n",
       "8  1758      6.74\n",
       "9  1759      7.99"
      ]
     },
     "execution_count": 35,
     "metadata": {},
     "output_type": "execute_result"
    }
   ],
   "source": [
    "df_global.head(10)\n",
    "#df_city.head()"
   ]
  },
  {
   "cell_type": "code",
   "execution_count": 36,
   "metadata": {},
   "outputs": [],
   "source": [
    "#merge the datasets using inner join based on the column name 'year'."
   ]
  },
  {
   "cell_type": "code",
   "execution_count": 37,
   "metadata": {},
   "outputs": [],
   "source": [
    "df=df_city.merge(df_global, how='inner', on='year')"
   ]
  },
  {
   "cell_type": "code",
   "execution_count": 38,
   "metadata": {},
   "outputs": [],
   "source": [
    "# rename the columns to indicate the average city temperature and average global temperature."
   ]
  },
  {
   "cell_type": "code",
   "execution_count": 39,
   "metadata": {},
   "outputs": [],
   "source": [
    "df=df.rename(columns={'avg_temp_x':'avg_city_temp', 'avg_temp_y':'avg_global_temp'})"
   ]
  },
  {
   "cell_type": "code",
   "execution_count": 40,
   "metadata": {
    "scrolled": true
   },
   "outputs": [
    {
     "data": {
      "text/html": [
       "<div>\n",
       "<style scoped>\n",
       "    .dataframe tbody tr th:only-of-type {\n",
       "        vertical-align: middle;\n",
       "    }\n",
       "\n",
       "    .dataframe tbody tr th {\n",
       "        vertical-align: top;\n",
       "    }\n",
       "\n",
       "    .dataframe thead th {\n",
       "        text-align: right;\n",
       "    }\n",
       "</style>\n",
       "<table border=\"1\" class=\"dataframe\">\n",
       "  <thead>\n",
       "    <tr style=\"text-align: right;\">\n",
       "      <th></th>\n",
       "      <th>year</th>\n",
       "      <th>city</th>\n",
       "      <th>country</th>\n",
       "      <th>avg_city_temp</th>\n",
       "      <th>avg_global_temp</th>\n",
       "    </tr>\n",
       "  </thead>\n",
       "  <tbody>\n",
       "    <tr>\n",
       "      <td>0</td>\n",
       "      <td>1796</td>\n",
       "      <td>Delhi</td>\n",
       "      <td>India</td>\n",
       "      <td>25.03</td>\n",
       "      <td>8.27</td>\n",
       "    </tr>\n",
       "    <tr>\n",
       "      <td>1</td>\n",
       "      <td>1797</td>\n",
       "      <td>Delhi</td>\n",
       "      <td>India</td>\n",
       "      <td>26.71</td>\n",
       "      <td>8.51</td>\n",
       "    </tr>\n",
       "    <tr>\n",
       "      <td>2</td>\n",
       "      <td>1798</td>\n",
       "      <td>Delhi</td>\n",
       "      <td>India</td>\n",
       "      <td>24.29</td>\n",
       "      <td>8.67</td>\n",
       "    </tr>\n",
       "    <tr>\n",
       "      <td>3</td>\n",
       "      <td>1799</td>\n",
       "      <td>Delhi</td>\n",
       "      <td>India</td>\n",
       "      <td>25.28</td>\n",
       "      <td>8.51</td>\n",
       "    </tr>\n",
       "    <tr>\n",
       "      <td>4</td>\n",
       "      <td>1800</td>\n",
       "      <td>Delhi</td>\n",
       "      <td>India</td>\n",
       "      <td>25.21</td>\n",
       "      <td>8.48</td>\n",
       "    </tr>\n",
       "  </tbody>\n",
       "</table>\n",
       "</div>"
      ],
      "text/plain": [
       "   year   city country  avg_city_temp  avg_global_temp\n",
       "0  1796  Delhi   India          25.03             8.27\n",
       "1  1797  Delhi   India          26.71             8.51\n",
       "2  1798  Delhi   India          24.29             8.67\n",
       "3  1799  Delhi   India          25.28             8.51\n",
       "4  1800  Delhi   India          25.21             8.48"
      ]
     },
     "execution_count": 40,
     "metadata": {},
     "output_type": "execute_result"
    }
   ],
   "source": [
    "df.head()"
   ]
  },
  {
   "cell_type": "code",
   "execution_count": 41,
   "metadata": {},
   "outputs": [
    {
     "data": {
      "text/plain": [
       "(218, 5)"
      ]
     },
     "execution_count": 41,
     "metadata": {},
     "output_type": "execute_result"
    }
   ],
   "source": [
    "df.shape\n"
   ]
  },
  {
   "cell_type": "code",
   "execution_count": 43,
   "metadata": {},
   "outputs": [
    {
     "data": {
      "text/plain": [
       "True"
      ]
     },
     "execution_count": 43,
     "metadata": {},
     "output_type": "execute_result"
    }
   ],
   "source": [
    "#check is null\n",
    "df.isnull().values.any()"
   ]
  },
  {
   "cell_type": "code",
   "execution_count": 44,
   "metadata": {
    "scrolled": true
   },
   "outputs": [
    {
     "data": {
      "text/plain": [
       "year                0\n",
       "city                0\n",
       "country             0\n",
       "avg_city_temp      17\n",
       "avg_global_temp     0\n",
       "dtype: int64"
      ]
     },
     "execution_count": 44,
     "metadata": {},
     "output_type": "execute_result"
    }
   ],
   "source": [
    "df.isnull().sum()"
   ]
  },
  {
   "cell_type": "code",
   "execution_count": null,
   "metadata": {},
   "outputs": [],
   "source": [
    "#drop all columns with null values"
   ]
  },
  {
   "cell_type": "code",
   "execution_count": 45,
   "metadata": {},
   "outputs": [],
   "source": [
    "df=df.dropna()"
   ]
  },
  {
   "cell_type": "code",
   "execution_count": 46,
   "metadata": {},
   "outputs": [
    {
     "data": {
      "text/plain": [
       "(201, 5)"
      ]
     },
     "execution_count": 46,
     "metadata": {},
     "output_type": "execute_result"
    }
   ],
   "source": [
    "df.shape"
   ]
  },
  {
   "cell_type": "code",
   "execution_count": 47,
   "metadata": {},
   "outputs": [],
   "source": [
    "#this means that 17 rows have been omitted"
   ]
  },
  {
   "cell_type": "code",
   "execution_count": 48,
   "metadata": {},
   "outputs": [
    {
     "data": {
      "text/html": [
       "<div>\n",
       "<style scoped>\n",
       "    .dataframe tbody tr th:only-of-type {\n",
       "        vertical-align: middle;\n",
       "    }\n",
       "\n",
       "    .dataframe tbody tr th {\n",
       "        vertical-align: top;\n",
       "    }\n",
       "\n",
       "    .dataframe thead th {\n",
       "        text-align: right;\n",
       "    }\n",
       "</style>\n",
       "<table border=\"1\" class=\"dataframe\">\n",
       "  <thead>\n",
       "    <tr style=\"text-align: right;\">\n",
       "      <th></th>\n",
       "      <th>year</th>\n",
       "      <th>avg_city_temp</th>\n",
       "      <th>avg_global_temp</th>\n",
       "    </tr>\n",
       "  </thead>\n",
       "  <tbody>\n",
       "    <tr>\n",
       "      <td>count</td>\n",
       "      <td>201.000000</td>\n",
       "      <td>201.000000</td>\n",
       "      <td>201.000000</td>\n",
       "    </tr>\n",
       "    <tr>\n",
       "      <td>mean</td>\n",
       "      <td>1909.298507</td>\n",
       "      <td>25.166269</td>\n",
       "      <td>8.452886</td>\n",
       "    </tr>\n",
       "    <tr>\n",
       "      <td>std</td>\n",
       "      <td>62.997226</td>\n",
       "      <td>0.594003</td>\n",
       "      <td>0.521460</td>\n",
       "    </tr>\n",
       "    <tr>\n",
       "      <td>min</td>\n",
       "      <td>1796.000000</td>\n",
       "      <td>23.700000</td>\n",
       "      <td>6.940000</td>\n",
       "    </tr>\n",
       "    <tr>\n",
       "      <td>25%</td>\n",
       "      <td>1851.000000</td>\n",
       "      <td>24.800000</td>\n",
       "      <td>8.130000</td>\n",
       "    </tr>\n",
       "    <tr>\n",
       "      <td>50%</td>\n",
       "      <td>1913.000000</td>\n",
       "      <td>25.140000</td>\n",
       "      <td>8.500000</td>\n",
       "    </tr>\n",
       "    <tr>\n",
       "      <td>75%</td>\n",
       "      <td>1963.000000</td>\n",
       "      <td>25.550000</td>\n",
       "      <td>8.730000</td>\n",
       "    </tr>\n",
       "    <tr>\n",
       "      <td>max</td>\n",
       "      <td>2013.000000</td>\n",
       "      <td>26.710000</td>\n",
       "      <td>9.730000</td>\n",
       "    </tr>\n",
       "  </tbody>\n",
       "</table>\n",
       "</div>"
      ],
      "text/plain": [
       "              year  avg_city_temp  avg_global_temp\n",
       "count   201.000000     201.000000       201.000000\n",
       "mean   1909.298507      25.166269         8.452886\n",
       "std      62.997226       0.594003         0.521460\n",
       "min    1796.000000      23.700000         6.940000\n",
       "25%    1851.000000      24.800000         8.130000\n",
       "50%    1913.000000      25.140000         8.500000\n",
       "75%    1963.000000      25.550000         8.730000\n",
       "max    2013.000000      26.710000         9.730000"
      ]
     },
     "execution_count": 48,
     "metadata": {},
     "output_type": "execute_result"
    }
   ],
   "source": [
    "df.describe()"
   ]
  },
  {
   "cell_type": "code",
   "execution_count": 49,
   "metadata": {},
   "outputs": [],
   "source": [
    "#calculate moving average"
   ]
  },
  {
   "cell_type": "code",
   "execution_count": 50,
   "metadata": {},
   "outputs": [],
   "source": [
    "df['city_moving_avg'] = df.iloc[:,3].rolling(window=8).mean().dropna()\n",
    "df['global_moving_avg']= df.iloc[:,4].rolling(window=8).mean().dropna()"
   ]
  },
  {
   "cell_type": "code",
   "execution_count": 51,
   "metadata": {},
   "outputs": [
    {
     "data": {
      "text/html": [
       "<div>\n",
       "<style scoped>\n",
       "    .dataframe tbody tr th:only-of-type {\n",
       "        vertical-align: middle;\n",
       "    }\n",
       "\n",
       "    .dataframe tbody tr th {\n",
       "        vertical-align: top;\n",
       "    }\n",
       "\n",
       "    .dataframe thead th {\n",
       "        text-align: right;\n",
       "    }\n",
       "</style>\n",
       "<table border=\"1\" class=\"dataframe\">\n",
       "  <thead>\n",
       "    <tr style=\"text-align: right;\">\n",
       "      <th></th>\n",
       "      <th>year</th>\n",
       "      <th>city</th>\n",
       "      <th>country</th>\n",
       "      <th>avg_city_temp</th>\n",
       "      <th>avg_global_temp</th>\n",
       "      <th>city_moving_avg</th>\n",
       "      <th>global_moving_avg</th>\n",
       "    </tr>\n",
       "  </thead>\n",
       "  <tbody>\n",
       "    <tr>\n",
       "      <td>0</td>\n",
       "      <td>1796</td>\n",
       "      <td>Delhi</td>\n",
       "      <td>India</td>\n",
       "      <td>25.03</td>\n",
       "      <td>8.27</td>\n",
       "      <td>NaN</td>\n",
       "      <td>NaN</td>\n",
       "    </tr>\n",
       "    <tr>\n",
       "      <td>1</td>\n",
       "      <td>1797</td>\n",
       "      <td>Delhi</td>\n",
       "      <td>India</td>\n",
       "      <td>26.71</td>\n",
       "      <td>8.51</td>\n",
       "      <td>NaN</td>\n",
       "      <td>NaN</td>\n",
       "    </tr>\n",
       "    <tr>\n",
       "      <td>2</td>\n",
       "      <td>1798</td>\n",
       "      <td>Delhi</td>\n",
       "      <td>India</td>\n",
       "      <td>24.29</td>\n",
       "      <td>8.67</td>\n",
       "      <td>NaN</td>\n",
       "      <td>NaN</td>\n",
       "    </tr>\n",
       "    <tr>\n",
       "      <td>3</td>\n",
       "      <td>1799</td>\n",
       "      <td>Delhi</td>\n",
       "      <td>India</td>\n",
       "      <td>25.28</td>\n",
       "      <td>8.51</td>\n",
       "      <td>NaN</td>\n",
       "      <td>NaN</td>\n",
       "    </tr>\n",
       "    <tr>\n",
       "      <td>4</td>\n",
       "      <td>1800</td>\n",
       "      <td>Delhi</td>\n",
       "      <td>India</td>\n",
       "      <td>25.21</td>\n",
       "      <td>8.48</td>\n",
       "      <td>NaN</td>\n",
       "      <td>NaN</td>\n",
       "    </tr>\n",
       "    <tr>\n",
       "      <td>5</td>\n",
       "      <td>1801</td>\n",
       "      <td>Delhi</td>\n",
       "      <td>India</td>\n",
       "      <td>24.22</td>\n",
       "      <td>8.59</td>\n",
       "      <td>NaN</td>\n",
       "      <td>NaN</td>\n",
       "    </tr>\n",
       "    <tr>\n",
       "      <td>6</td>\n",
       "      <td>1802</td>\n",
       "      <td>Delhi</td>\n",
       "      <td>India</td>\n",
       "      <td>25.63</td>\n",
       "      <td>8.58</td>\n",
       "      <td>NaN</td>\n",
       "      <td>NaN</td>\n",
       "    </tr>\n",
       "    <tr>\n",
       "      <td>7</td>\n",
       "      <td>1803</td>\n",
       "      <td>Delhi</td>\n",
       "      <td>India</td>\n",
       "      <td>25.38</td>\n",
       "      <td>8.50</td>\n",
       "      <td>25.21875</td>\n",
       "      <td>8.51375</td>\n",
       "    </tr>\n",
       "    <tr>\n",
       "      <td>8</td>\n",
       "      <td>1804</td>\n",
       "      <td>Delhi</td>\n",
       "      <td>India</td>\n",
       "      <td>25.68</td>\n",
       "      <td>8.84</td>\n",
       "      <td>25.30000</td>\n",
       "      <td>8.58500</td>\n",
       "    </tr>\n",
       "    <tr>\n",
       "      <td>9</td>\n",
       "      <td>1805</td>\n",
       "      <td>Delhi</td>\n",
       "      <td>India</td>\n",
       "      <td>25.30</td>\n",
       "      <td>8.56</td>\n",
       "      <td>25.12375</td>\n",
       "      <td>8.59125</td>\n",
       "    </tr>\n",
       "  </tbody>\n",
       "</table>\n",
       "</div>"
      ],
      "text/plain": [
       "   year   city country  avg_city_temp  avg_global_temp  city_moving_avg  \\\n",
       "0  1796  Delhi   India          25.03             8.27              NaN   \n",
       "1  1797  Delhi   India          26.71             8.51              NaN   \n",
       "2  1798  Delhi   India          24.29             8.67              NaN   \n",
       "3  1799  Delhi   India          25.28             8.51              NaN   \n",
       "4  1800  Delhi   India          25.21             8.48              NaN   \n",
       "5  1801  Delhi   India          24.22             8.59              NaN   \n",
       "6  1802  Delhi   India          25.63             8.58              NaN   \n",
       "7  1803  Delhi   India          25.38             8.50         25.21875   \n",
       "8  1804  Delhi   India          25.68             8.84         25.30000   \n",
       "9  1805  Delhi   India          25.30             8.56         25.12375   \n",
       "\n",
       "   global_moving_avg  \n",
       "0                NaN  \n",
       "1                NaN  \n",
       "2                NaN  \n",
       "3                NaN  \n",
       "4                NaN  \n",
       "5                NaN  \n",
       "6                NaN  \n",
       "7            8.51375  \n",
       "8            8.58500  \n",
       "9            8.59125  "
      ]
     },
     "execution_count": 51,
     "metadata": {},
     "output_type": "execute_result"
    }
   ],
   "source": [
    "df.head(10)"
   ]
  },
  {
   "cell_type": "code",
   "execution_count": 52,
   "metadata": {},
   "outputs": [],
   "source": [
    "df=df[7:]"
   ]
  },
  {
   "cell_type": "code",
   "execution_count": 53,
   "metadata": {},
   "outputs": [
    {
     "data": {
      "text/html": [
       "<div>\n",
       "<style scoped>\n",
       "    .dataframe tbody tr th:only-of-type {\n",
       "        vertical-align: middle;\n",
       "    }\n",
       "\n",
       "    .dataframe tbody tr th {\n",
       "        vertical-align: top;\n",
       "    }\n",
       "\n",
       "    .dataframe thead th {\n",
       "        text-align: right;\n",
       "    }\n",
       "</style>\n",
       "<table border=\"1\" class=\"dataframe\">\n",
       "  <thead>\n",
       "    <tr style=\"text-align: right;\">\n",
       "      <th></th>\n",
       "      <th>year</th>\n",
       "      <th>city</th>\n",
       "      <th>country</th>\n",
       "      <th>avg_city_temp</th>\n",
       "      <th>avg_global_temp</th>\n",
       "      <th>city_moving_avg</th>\n",
       "      <th>global_moving_avg</th>\n",
       "    </tr>\n",
       "  </thead>\n",
       "  <tbody>\n",
       "    <tr>\n",
       "      <td>7</td>\n",
       "      <td>1803</td>\n",
       "      <td>Delhi</td>\n",
       "      <td>India</td>\n",
       "      <td>25.38</td>\n",
       "      <td>8.50</td>\n",
       "      <td>25.21875</td>\n",
       "      <td>8.51375</td>\n",
       "    </tr>\n",
       "    <tr>\n",
       "      <td>8</td>\n",
       "      <td>1804</td>\n",
       "      <td>Delhi</td>\n",
       "      <td>India</td>\n",
       "      <td>25.68</td>\n",
       "      <td>8.84</td>\n",
       "      <td>25.30000</td>\n",
       "      <td>8.58500</td>\n",
       "    </tr>\n",
       "    <tr>\n",
       "      <td>9</td>\n",
       "      <td>1805</td>\n",
       "      <td>Delhi</td>\n",
       "      <td>India</td>\n",
       "      <td>25.30</td>\n",
       "      <td>8.56</td>\n",
       "      <td>25.12375</td>\n",
       "      <td>8.59125</td>\n",
       "    </tr>\n",
       "    <tr>\n",
       "      <td>10</td>\n",
       "      <td>1806</td>\n",
       "      <td>Delhi</td>\n",
       "      <td>India</td>\n",
       "      <td>25.22</td>\n",
       "      <td>8.43</td>\n",
       "      <td>25.24000</td>\n",
       "      <td>8.56125</td>\n",
       "    </tr>\n",
       "    <tr>\n",
       "      <td>11</td>\n",
       "      <td>1807</td>\n",
       "      <td>Delhi</td>\n",
       "      <td>India</td>\n",
       "      <td>24.97</td>\n",
       "      <td>8.28</td>\n",
       "      <td>25.20125</td>\n",
       "      <td>8.53250</td>\n",
       "    </tr>\n",
       "    <tr>\n",
       "      <td>...</td>\n",
       "      <td>...</td>\n",
       "      <td>...</td>\n",
       "      <td>...</td>\n",
       "      <td>...</td>\n",
       "      <td>...</td>\n",
       "      <td>...</td>\n",
       "      <td>...</td>\n",
       "    </tr>\n",
       "    <tr>\n",
       "      <td>213</td>\n",
       "      <td>2009</td>\n",
       "      <td>Delhi</td>\n",
       "      <td>India</td>\n",
       "      <td>26.55</td>\n",
       "      <td>9.51</td>\n",
       "      <td>26.13250</td>\n",
       "      <td>9.54000</td>\n",
       "    </tr>\n",
       "    <tr>\n",
       "      <td>214</td>\n",
       "      <td>2010</td>\n",
       "      <td>Delhi</td>\n",
       "      <td>India</td>\n",
       "      <td>26.52</td>\n",
       "      <td>9.70</td>\n",
       "      <td>26.11875</td>\n",
       "      <td>9.55625</td>\n",
       "    </tr>\n",
       "    <tr>\n",
       "      <td>215</td>\n",
       "      <td>2011</td>\n",
       "      <td>Delhi</td>\n",
       "      <td>India</td>\n",
       "      <td>25.63</td>\n",
       "      <td>9.52</td>\n",
       "      <td>26.10750</td>\n",
       "      <td>9.55500</td>\n",
       "    </tr>\n",
       "    <tr>\n",
       "      <td>216</td>\n",
       "      <td>2012</td>\n",
       "      <td>Delhi</td>\n",
       "      <td>India</td>\n",
       "      <td>25.89</td>\n",
       "      <td>9.51</td>\n",
       "      <td>26.06375</td>\n",
       "      <td>9.57875</td>\n",
       "    </tr>\n",
       "    <tr>\n",
       "      <td>217</td>\n",
       "      <td>2013</td>\n",
       "      <td>Delhi</td>\n",
       "      <td>India</td>\n",
       "      <td>26.71</td>\n",
       "      <td>9.61</td>\n",
       "      <td>26.18750</td>\n",
       "      <td>9.56750</td>\n",
       "    </tr>\n",
       "  </tbody>\n",
       "</table>\n",
       "<p>194 rows × 7 columns</p>\n",
       "</div>"
      ],
      "text/plain": [
       "     year   city country  avg_city_temp  avg_global_temp  city_moving_avg  \\\n",
       "7    1803  Delhi   India          25.38             8.50         25.21875   \n",
       "8    1804  Delhi   India          25.68             8.84         25.30000   \n",
       "9    1805  Delhi   India          25.30             8.56         25.12375   \n",
       "10   1806  Delhi   India          25.22             8.43         25.24000   \n",
       "11   1807  Delhi   India          24.97             8.28         25.20125   \n",
       "..    ...    ...     ...            ...              ...              ...   \n",
       "213  2009  Delhi   India          26.55             9.51         26.13250   \n",
       "214  2010  Delhi   India          26.52             9.70         26.11875   \n",
       "215  2011  Delhi   India          25.63             9.52         26.10750   \n",
       "216  2012  Delhi   India          25.89             9.51         26.06375   \n",
       "217  2013  Delhi   India          26.71             9.61         26.18750   \n",
       "\n",
       "     global_moving_avg  \n",
       "7              8.51375  \n",
       "8              8.58500  \n",
       "9              8.59125  \n",
       "10             8.56125  \n",
       "11             8.53250  \n",
       "..                 ...  \n",
       "213            9.54000  \n",
       "214            9.55625  \n",
       "215            9.55500  \n",
       "216            9.57875  \n",
       "217            9.56750  \n",
       "\n",
       "[194 rows x 7 columns]"
      ]
     },
     "execution_count": 53,
     "metadata": {},
     "output_type": "execute_result"
    }
   ],
   "source": [
    "df"
   ]
  },
  {
   "cell_type": "code",
   "execution_count": 55,
   "metadata": {},
   "outputs": [],
   "source": [
    "import matplotlib.pyplot as plt"
   ]
  },
  {
   "cell_type": "code",
   "execution_count": 64,
   "metadata": {},
   "outputs": [
    {
     "data": {
      "text/plain": [
       "Text(0.5, 1.0, 'Weather Trend')"
      ]
     },
     "execution_count": 64,
     "metadata": {},
     "output_type": "execute_result"
    },
    {
     "data": {
      "image/png": "[encoded data removed]",
      "text/plain": [
       "<Figure size 432x288 with 1 Axes>"
      ]
     },
     "metadata": {
      "needs_background": "light"
     },
     "output_type": "display_data"
    }
   ],
   "source": [
    "plt.plot(df['year'],df['city_moving_avg'],'bo', df['year'],df['global_moving_avg'],'ro', linewidth=1, markersize=3)\n",
    "plt.xlabel('Year', fontsize=10)\n",
    "plt.ylabel('Temperature (oC)', fontsize=10)\n",
    "plt.title('Weather Trend')"
   ]
  },
  {
   "cell_type": "code",
   "execution_count": null,
   "metadata": {},
   "outputs": [],
   "source": []
  }
 ],
 "metadata": {
  "kernelspec": {
   "display_name": "Python 3",
   "language": "python",
   "name": "python3"
  },
  "language_info": {
   "codemirror_mode": {
    "name": "ipython",
    "version": 3
   },
   "file_extension": ".py",
   "mimetype": "text/x-python",
   "name": "python",
   "nbconvert_exporter": "python",
   "pygments_lexer": "ipython3",
   "version": "3.7.4"
  }
 },
 "nbformat": 4,
 "nbformat_minor": 2
}
